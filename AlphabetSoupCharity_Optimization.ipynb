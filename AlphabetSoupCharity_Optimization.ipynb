{
 "cells": [
  {
   "cell_type": "code",
   "execution_count": 167,
   "metadata": {},
   "outputs": [],
   "source": [
    "# Import our dependencies\n",
    "from sklearn.model_selection import train_test_split\n",
    "from sklearn.preprocessing import MinMaxScaler\n",
    "import pandas as pd\n",
    "import tensorflow as tf\n",
    "import pandas as pd \n",
    "\n",
    "from sklearn.metrics import roc_auc_score, roc_curve\n",
    "import matplotlib.pyplot as plt"
   ]
  },
  {
   "cell_type": "code",
   "execution_count": 168,
   "metadata": {},
   "outputs": [
    {
     "data": {
      "text/html": [
       "<div>\n",
       "<style scoped>\n",
       "    .dataframe tbody tr th:only-of-type {\n",
       "        vertical-align: middle;\n",
       "    }\n",
       "\n",
       "    .dataframe tbody tr th {\n",
       "        vertical-align: top;\n",
       "    }\n",
       "\n",
       "    .dataframe thead th {\n",
       "        text-align: right;\n",
       "    }\n",
       "</style>\n",
       "<table border=\"1\" class=\"dataframe\">\n",
       "  <thead>\n",
       "    <tr style=\"text-align: right;\">\n",
       "      <th></th>\n",
       "      <th>EIN</th>\n",
       "      <th>NAME</th>\n",
       "      <th>APPLICATION_TYPE</th>\n",
       "      <th>AFFILIATION</th>\n",
       "      <th>CLASSIFICATION</th>\n",
       "      <th>USE_CASE</th>\n",
       "      <th>ORGANIZATION</th>\n",
       "      <th>STATUS</th>\n",
       "      <th>INCOME_AMT</th>\n",
       "      <th>SPECIAL_CONSIDERATIONS</th>\n",
       "      <th>ASK_AMT</th>\n",
       "      <th>IS_SUCCESSFUL</th>\n",
       "    </tr>\n",
       "  </thead>\n",
       "  <tbody>\n",
       "    <tr>\n",
       "      <th>0</th>\n",
       "      <td>10520599</td>\n",
       "      <td>BLUE KNIGHTS MOTORCYCLE CLUB</td>\n",
       "      <td>T10</td>\n",
       "      <td>Independent</td>\n",
       "      <td>C1000</td>\n",
       "      <td>ProductDev</td>\n",
       "      <td>Association</td>\n",
       "      <td>1</td>\n",
       "      <td>0</td>\n",
       "      <td>N</td>\n",
       "      <td>5000</td>\n",
       "      <td>1</td>\n",
       "    </tr>\n",
       "    <tr>\n",
       "      <th>1</th>\n",
       "      <td>10531628</td>\n",
       "      <td>AMERICAN CHESAPEAKE CLUB CHARITABLE TR</td>\n",
       "      <td>T3</td>\n",
       "      <td>Independent</td>\n",
       "      <td>C2000</td>\n",
       "      <td>Preservation</td>\n",
       "      <td>Co-operative</td>\n",
       "      <td>1</td>\n",
       "      <td>1-9999</td>\n",
       "      <td>N</td>\n",
       "      <td>108590</td>\n",
       "      <td>1</td>\n",
       "    </tr>\n",
       "    <tr>\n",
       "      <th>2</th>\n",
       "      <td>10547893</td>\n",
       "      <td>ST CLOUD PROFESSIONAL FIREFIGHTERS</td>\n",
       "      <td>T5</td>\n",
       "      <td>CompanySponsored</td>\n",
       "      <td>C3000</td>\n",
       "      <td>ProductDev</td>\n",
       "      <td>Association</td>\n",
       "      <td>1</td>\n",
       "      <td>0</td>\n",
       "      <td>N</td>\n",
       "      <td>5000</td>\n",
       "      <td>0</td>\n",
       "    </tr>\n",
       "    <tr>\n",
       "      <th>3</th>\n",
       "      <td>10553066</td>\n",
       "      <td>SOUTHSIDE ATHLETIC ASSOCIATION</td>\n",
       "      <td>T3</td>\n",
       "      <td>CompanySponsored</td>\n",
       "      <td>C2000</td>\n",
       "      <td>Preservation</td>\n",
       "      <td>Trust</td>\n",
       "      <td>1</td>\n",
       "      <td>10000-24999</td>\n",
       "      <td>N</td>\n",
       "      <td>6692</td>\n",
       "      <td>1</td>\n",
       "    </tr>\n",
       "    <tr>\n",
       "      <th>4</th>\n",
       "      <td>10556103</td>\n",
       "      <td>GENETIC RESEARCH INSTITUTE OF THE DESERT</td>\n",
       "      <td>T3</td>\n",
       "      <td>Independent</td>\n",
       "      <td>C1000</td>\n",
       "      <td>Heathcare</td>\n",
       "      <td>Trust</td>\n",
       "      <td>1</td>\n",
       "      <td>100000-499999</td>\n",
       "      <td>N</td>\n",
       "      <td>142590</td>\n",
       "      <td>1</td>\n",
       "    </tr>\n",
       "  </tbody>\n",
       "</table>\n",
       "</div>"
      ],
      "text/plain": [
       "        EIN                                      NAME APPLICATION_TYPE  \\\n",
       "0  10520599              BLUE KNIGHTS MOTORCYCLE CLUB              T10   \n",
       "1  10531628    AMERICAN CHESAPEAKE CLUB CHARITABLE TR               T3   \n",
       "2  10547893        ST CLOUD PROFESSIONAL FIREFIGHTERS               T5   \n",
       "3  10553066            SOUTHSIDE ATHLETIC ASSOCIATION               T3   \n",
       "4  10556103  GENETIC RESEARCH INSTITUTE OF THE DESERT               T3   \n",
       "\n",
       "        AFFILIATION CLASSIFICATION      USE_CASE  ORGANIZATION  STATUS  \\\n",
       "0       Independent          C1000    ProductDev   Association       1   \n",
       "1       Independent          C2000  Preservation  Co-operative       1   \n",
       "2  CompanySponsored          C3000    ProductDev   Association       1   \n",
       "3  CompanySponsored          C2000  Preservation         Trust       1   \n",
       "4       Independent          C1000     Heathcare         Trust       1   \n",
       "\n",
       "      INCOME_AMT SPECIAL_CONSIDERATIONS  ASK_AMT  IS_SUCCESSFUL  \n",
       "0              0                      N     5000              1  \n",
       "1         1-9999                      N   108590              1  \n",
       "2              0                      N     5000              0  \n",
       "3    10000-24999                      N     6692              1  \n",
       "4  100000-499999                      N   142590              1  "
      ]
     },
     "execution_count": 168,
     "metadata": {},
     "output_type": "execute_result"
    }
   ],
   "source": [
    "#  Import and read the charity_data.csv.\n",
    "url = 'https://raw.githubusercontent.com/JordanJaner/deep_learning_challenge/main/Resources/charity_data.csv'\n",
    "application_df = pd.read_csv(url)\n",
    "application_df.head(5)"
   ]
  },
  {
   "cell_type": "code",
   "execution_count": 169,
   "metadata": {},
   "outputs": [
    {
     "name": "stdout",
     "output_type": "stream",
     "text": [
      "Number of rows: 34299, Number of columns: 12\n"
     ]
    }
   ],
   "source": [
    "# Display the number of rows and columns\n",
    "rows, columns = application_df.shape\n",
    "print(f'Number of rows: {rows}, Number of columns: {columns}')"
   ]
  },
  {
   "cell_type": "code",
   "execution_count": 170,
   "metadata": {},
   "outputs": [],
   "source": [
    "# Drop the non-beneficial ID columns, 'EIN'.\n",
    "application_df = application_df.drop(columns = ['EIN'])"
   ]
  },
  {
   "cell_type": "code",
   "execution_count": 171,
   "metadata": {},
   "outputs": [
    {
     "name": "stdout",
     "output_type": "stream",
     "text": [
      "NAME 19568\n",
      "APPLICATION_TYPE 17\n",
      "AFFILIATION 6\n",
      "CLASSIFICATION 71\n",
      "USE_CASE 5\n",
      "ORGANIZATION 4\n",
      "STATUS 2\n",
      "INCOME_AMT 9\n",
      "SPECIAL_CONSIDERATIONS 2\n",
      "ASK_AMT 8747\n",
      "IS_SUCCESSFUL 2\n"
     ]
    }
   ],
   "source": [
    "# Determine the number of unique values in each column.\n",
    "for x in application_df.columns:\n",
    "    print(x, len(application_df[x].unique()))     "
   ]
  },
  {
   "cell_type": "code",
   "execution_count": 172,
   "metadata": {},
   "outputs": [
    {
     "data": {
      "text/plain": [
       "PARENT BOOSTER USA INC                                                  1260\n",
       "TOPS CLUB INC                                                            765\n",
       "UNITED STATES BOWLING CONGRESS INC                                       700\n",
       "WASHINGTON STATE UNIVERSITY                                              492\n",
       "AMATEUR ATHLETIC UNION OF THE UNITED STATES INC                          408\n",
       "                                                                        ... \n",
       "ST LOUIS SLAM WOMENS FOOTBALL                                              1\n",
       "AIESEC ALUMNI IBEROAMERICA CORP                                            1\n",
       "WEALLBLEEDRED ORG INC                                                      1\n",
       "AMERICAN SOCIETY FOR STANDARDS IN MEDIUMSHIP & PSYCHICAL INVESTIGATI       1\n",
       "WATERHOUSE CHARITABLE TR                                                   1\n",
       "Name: NAME, Length: 19568, dtype: int64"
      ]
     },
     "execution_count": 172,
     "metadata": {},
     "output_type": "execute_result"
    }
   ],
   "source": [
    "# Look at NAME counts for binning\n",
    "application_df['NAME'].value_counts()"
   ]
  },
  {
   "cell_type": "code",
   "execution_count": 173,
   "metadata": {},
   "outputs": [],
   "source": [
    "# Choose a cutoff value and create a list of names_replace to be replaced\n",
    "countsA = application_df['NAME'].value_counts()\n",
    "names_replace = list(countsA[countsA<5].index)"
   ]
  },
  {
   "cell_type": "code",
   "execution_count": 174,
   "metadata": {},
   "outputs": [],
   "source": [
    "# Choose a cutoff value and create a list of names_replace to be replaced\n",
    "names_replace = list(countsA[countsA<5].index)"
   ]
  },
  {
   "cell_type": "code",
   "execution_count": 175,
   "metadata": {},
   "outputs": [
    {
     "data": {
      "text/plain": [
       "Other                                                                19803\n",
       "PARENT BOOSTER USA INC                                                1260\n",
       "TOPS CLUB INC                                                          765\n",
       "UNITED STATES BOWLING CONGRESS INC                                     700\n",
       "WASHINGTON STATE UNIVERSITY                                            492\n",
       "                                                                     ...  \n",
       "GUILDS OF THE SANTA FE OPERA INC                                         5\n",
       "FAMILY MOTOR COACH ASSOCIATION                                           5\n",
       "JAMESTOWN SOCIETY                                                        5\n",
       "MOST WORSHIPFUL PRINCE HALL GRAND LODGE OF FREE & ACCEPTED MASONS        5\n",
       "PTA HAWAII CONGRESS                                                      5\n",
       "Name: NAME, Length: 403, dtype: int64"
      ]
     },
     "execution_count": 175,
     "metadata": {},
     "output_type": "execute_result"
    }
   ],
   "source": [
    "# Replace in dataframe\n",
    "for name in names_replace:\n",
    "    application_df['NAME'] = application_df['NAME'].replace(name,\"Other\")\n",
    "\n",
    "# Check to make sure binning was successful\n",
    "application_df['NAME'].value_counts()"
   ]
  },
  {
   "cell_type": "code",
   "execution_count": 176,
   "metadata": {},
   "outputs": [
    {
     "data": {
      "text/plain": [
       "T3     27037\n",
       "T4      1542\n",
       "T6      1216\n",
       "T5      1173\n",
       "T19     1065\n",
       "T8       737\n",
       "T7       725\n",
       "T10      528\n",
       "T9       156\n",
       "T13       66\n",
       "T12       27\n",
       "T2        16\n",
       "T25        3\n",
       "T14        3\n",
       "T29        2\n",
       "T15        2\n",
       "T17        1\n",
       "Name: APPLICATION_TYPE, dtype: int64"
      ]
     },
     "execution_count": 176,
     "metadata": {},
     "output_type": "execute_result"
    }
   ],
   "source": [
    "# Look at APPLICATION TYPE counts for binning\n",
    "application_df['APPLICATION_TYPE'].value_counts()"
   ]
  },
  {
   "cell_type": "code",
   "execution_count": 177,
   "metadata": {},
   "outputs": [
    {
     "data": {
      "text/plain": [
       "['T9', 'T13', 'T12', 'T2', 'T25', 'T14', 'T29', 'T15', 'T17']"
      ]
     },
     "execution_count": 177,
     "metadata": {},
     "output_type": "execute_result"
    }
   ],
   "source": [
    "# Choose a cutoff value and create a list of application types to be replaced\n",
    "counts = application_df['APPLICATION_TYPE'].value_counts()\n",
    "application_types_to_replace = list(counts[counts<500].index)\n",
    "application_types_to_replace"
   ]
  },
  {
   "cell_type": "code",
   "execution_count": 178,
   "metadata": {},
   "outputs": [
    {
     "data": {
      "text/plain": [
       "T3       27037\n",
       "T4        1542\n",
       "T6        1216\n",
       "T5        1173\n",
       "T19       1065\n",
       "T8         737\n",
       "T7         725\n",
       "T10        528\n",
       "Other      276\n",
       "Name: APPLICATION_TYPE, dtype: int64"
      ]
     },
     "execution_count": 178,
     "metadata": {},
     "output_type": "execute_result"
    }
   ],
   "source": [
    "# Replace in dataframe\n",
    "for app in application_types_to_replace:\n",
    "    application_df['APPLICATION_TYPE'] = application_df['APPLICATION_TYPE'].replace(app,\"Other\")\n",
    "\n",
    "# Check to make sure binning was successful\n",
    "application_df['APPLICATION_TYPE'].value_counts()"
   ]
  },
  {
   "cell_type": "code",
   "execution_count": 179,
   "metadata": {},
   "outputs": [
    {
     "data": {
      "text/plain": [
       "C1000    17326\n",
       "C2000     6074\n",
       "C1200     4837\n",
       "C3000     1918\n",
       "C2100     1883\n",
       "         ...  \n",
       "C4120        1\n",
       "C8210        1\n",
       "C2561        1\n",
       "C4500        1\n",
       "C2150        1\n",
       "Name: CLASSIFICATION, Length: 71, dtype: int64"
      ]
     },
     "execution_count": 179,
     "metadata": {},
     "output_type": "execute_result"
    }
   ],
   "source": [
    "# Look at CLASSIFICATION value counts for binning\n",
    "application_df['CLASSIFICATION'].value_counts()"
   ]
  },
  {
   "cell_type": "code",
   "execution_count": 180,
   "metadata": {},
   "outputs": [],
   "source": [
    "# You may find it helpful to look at CLASSIFICATION value counts >1\n",
    "countsbinning = application_df['CLASSIFICATION'].value_counts()\n",
    "countsclassification = countsbinning[countsbinning>1]"
   ]
  },
  {
   "cell_type": "code",
   "execution_count": 181,
   "metadata": {},
   "outputs": [],
   "source": [
    "# Choose a cutoff value and create a list of classifications to be replaced\n",
    "classifications_to_replace = list (countsbinning[countsbinning<100].index)"
   ]
  },
  {
   "cell_type": "code",
   "execution_count": 182,
   "metadata": {},
   "outputs": [
    {
     "data": {
      "text/plain": [
       "C1000    17326\n",
       "C2000     6074\n",
       "C1200     4837\n",
       "C3000     1918\n",
       "C2100     1883\n",
       "C7000      777\n",
       "Other      669\n",
       "C1700      287\n",
       "C4000      194\n",
       "C5000      116\n",
       "C1270      114\n",
       "C2700      104\n",
       "Name: CLASSIFICATION, dtype: int64"
      ]
     },
     "execution_count": 182,
     "metadata": {},
     "output_type": "execute_result"
    }
   ],
   "source": [
    "# Replace in dataframe\n",
    "for cls in classifications_to_replace:\n",
    "    application_df['CLASSIFICATION'] = application_df['CLASSIFICATION'].replace(cls,\"Other\")\n",
    "    \n",
    "# Check to make sure binning was successful\n",
    "application_df['CLASSIFICATION'].value_counts()"
   ]
  },
  {
   "cell_type": "code",
   "execution_count": 183,
   "metadata": {},
   "outputs": [
    {
     "data": {
      "text/html": [
       "<div>\n",
       "<style scoped>\n",
       "    .dataframe tbody tr th:only-of-type {\n",
       "        vertical-align: middle;\n",
       "    }\n",
       "\n",
       "    .dataframe tbody tr th {\n",
       "        vertical-align: top;\n",
       "    }\n",
       "\n",
       "    .dataframe thead th {\n",
       "        text-align: right;\n",
       "    }\n",
       "</style>\n",
       "<table border=\"1\" class=\"dataframe\">\n",
       "  <thead>\n",
       "    <tr style=\"text-align: right;\">\n",
       "      <th></th>\n",
       "      <th>STATUS</th>\n",
       "      <th>ASK_AMT</th>\n",
       "      <th>IS_SUCCESSFUL</th>\n",
       "      <th>NAME_AACE INTERNATIONAL</th>\n",
       "      <th>NAME_ACE MENTOR PROGRAM OF AMERICA INC</th>\n",
       "      <th>NAME_ACTS MINISTRY</th>\n",
       "      <th>NAME_ACTS MISSIONS</th>\n",
       "      <th>NAME_AFRICAN-AMERICAN POSTAL LEAGUE UNITED FOR SUCCESS A-PLUS</th>\n",
       "      <th>NAME_AIR FORCE ASSOCIATION</th>\n",
       "      <th>NAME_ALABAMA FEDERATION OF WOMENS CLUBS</th>\n",
       "      <th>...</th>\n",
       "      <th>INCOME_AMT_1-9999</th>\n",
       "      <th>INCOME_AMT_10000-24999</th>\n",
       "      <th>INCOME_AMT_100000-499999</th>\n",
       "      <th>INCOME_AMT_10M-50M</th>\n",
       "      <th>INCOME_AMT_1M-5M</th>\n",
       "      <th>INCOME_AMT_25000-99999</th>\n",
       "      <th>INCOME_AMT_50M+</th>\n",
       "      <th>INCOME_AMT_5M-10M</th>\n",
       "      <th>SPECIAL_CONSIDERATIONS_N</th>\n",
       "      <th>SPECIAL_CONSIDERATIONS_Y</th>\n",
       "    </tr>\n",
       "  </thead>\n",
       "  <tbody>\n",
       "    <tr>\n",
       "      <th>0</th>\n",
       "      <td>1</td>\n",
       "      <td>5000</td>\n",
       "      <td>1</td>\n",
       "      <td>0.0</td>\n",
       "      <td>0.0</td>\n",
       "      <td>0.0</td>\n",
       "      <td>0.0</td>\n",
       "      <td>0.0</td>\n",
       "      <td>0.0</td>\n",
       "      <td>0.0</td>\n",
       "      <td>...</td>\n",
       "      <td>0.0</td>\n",
       "      <td>0.0</td>\n",
       "      <td>0.0</td>\n",
       "      <td>0.0</td>\n",
       "      <td>0.0</td>\n",
       "      <td>0.0</td>\n",
       "      <td>0.0</td>\n",
       "      <td>0.0</td>\n",
       "      <td>1.0</td>\n",
       "      <td>0.0</td>\n",
       "    </tr>\n",
       "    <tr>\n",
       "      <th>1</th>\n",
       "      <td>1</td>\n",
       "      <td>108590</td>\n",
       "      <td>1</td>\n",
       "      <td>0.0</td>\n",
       "      <td>0.0</td>\n",
       "      <td>0.0</td>\n",
       "      <td>0.0</td>\n",
       "      <td>0.0</td>\n",
       "      <td>0.0</td>\n",
       "      <td>0.0</td>\n",
       "      <td>...</td>\n",
       "      <td>1.0</td>\n",
       "      <td>0.0</td>\n",
       "      <td>0.0</td>\n",
       "      <td>0.0</td>\n",
       "      <td>0.0</td>\n",
       "      <td>0.0</td>\n",
       "      <td>0.0</td>\n",
       "      <td>0.0</td>\n",
       "      <td>1.0</td>\n",
       "      <td>0.0</td>\n",
       "    </tr>\n",
       "    <tr>\n",
       "      <th>2</th>\n",
       "      <td>1</td>\n",
       "      <td>5000</td>\n",
       "      <td>0</td>\n",
       "      <td>0.0</td>\n",
       "      <td>0.0</td>\n",
       "      <td>0.0</td>\n",
       "      <td>0.0</td>\n",
       "      <td>0.0</td>\n",
       "      <td>0.0</td>\n",
       "      <td>0.0</td>\n",
       "      <td>...</td>\n",
       "      <td>0.0</td>\n",
       "      <td>0.0</td>\n",
       "      <td>0.0</td>\n",
       "      <td>0.0</td>\n",
       "      <td>0.0</td>\n",
       "      <td>0.0</td>\n",
       "      <td>0.0</td>\n",
       "      <td>0.0</td>\n",
       "      <td>1.0</td>\n",
       "      <td>0.0</td>\n",
       "    </tr>\n",
       "    <tr>\n",
       "      <th>3</th>\n",
       "      <td>1</td>\n",
       "      <td>6692</td>\n",
       "      <td>1</td>\n",
       "      <td>0.0</td>\n",
       "      <td>0.0</td>\n",
       "      <td>0.0</td>\n",
       "      <td>0.0</td>\n",
       "      <td>0.0</td>\n",
       "      <td>0.0</td>\n",
       "      <td>0.0</td>\n",
       "      <td>...</td>\n",
       "      <td>0.0</td>\n",
       "      <td>1.0</td>\n",
       "      <td>0.0</td>\n",
       "      <td>0.0</td>\n",
       "      <td>0.0</td>\n",
       "      <td>0.0</td>\n",
       "      <td>0.0</td>\n",
       "      <td>0.0</td>\n",
       "      <td>1.0</td>\n",
       "      <td>0.0</td>\n",
       "    </tr>\n",
       "    <tr>\n",
       "      <th>4</th>\n",
       "      <td>1</td>\n",
       "      <td>142590</td>\n",
       "      <td>1</td>\n",
       "      <td>0.0</td>\n",
       "      <td>0.0</td>\n",
       "      <td>0.0</td>\n",
       "      <td>0.0</td>\n",
       "      <td>0.0</td>\n",
       "      <td>0.0</td>\n",
       "      <td>0.0</td>\n",
       "      <td>...</td>\n",
       "      <td>0.0</td>\n",
       "      <td>0.0</td>\n",
       "      <td>1.0</td>\n",
       "      <td>0.0</td>\n",
       "      <td>0.0</td>\n",
       "      <td>0.0</td>\n",
       "      <td>0.0</td>\n",
       "      <td>0.0</td>\n",
       "      <td>1.0</td>\n",
       "      <td>0.0</td>\n",
       "    </tr>\n",
       "  </tbody>\n",
       "</table>\n",
       "<p>5 rows × 453 columns</p>\n",
       "</div>"
      ],
      "text/plain": [
       "   STATUS  ASK_AMT  IS_SUCCESSFUL  NAME_AACE INTERNATIONAL  \\\n",
       "0       1     5000              1                      0.0   \n",
       "1       1   108590              1                      0.0   \n",
       "2       1     5000              0                      0.0   \n",
       "3       1     6692              1                      0.0   \n",
       "4       1   142590              1                      0.0   \n",
       "\n",
       "   NAME_ACE MENTOR PROGRAM OF AMERICA INC  NAME_ACTS MINISTRY  \\\n",
       "0                                     0.0                 0.0   \n",
       "1                                     0.0                 0.0   \n",
       "2                                     0.0                 0.0   \n",
       "3                                     0.0                 0.0   \n",
       "4                                     0.0                 0.0   \n",
       "\n",
       "   NAME_ACTS MISSIONS  \\\n",
       "0                 0.0   \n",
       "1                 0.0   \n",
       "2                 0.0   \n",
       "3                 0.0   \n",
       "4                 0.0   \n",
       "\n",
       "   NAME_AFRICAN-AMERICAN POSTAL LEAGUE UNITED FOR SUCCESS A-PLUS  \\\n",
       "0                                                0.0               \n",
       "1                                                0.0               \n",
       "2                                                0.0               \n",
       "3                                                0.0               \n",
       "4                                                0.0               \n",
       "\n",
       "   NAME_AIR FORCE ASSOCIATION  NAME_ALABAMA FEDERATION OF WOMENS CLUBS  ...  \\\n",
       "0                         0.0                                      0.0  ...   \n",
       "1                         0.0                                      0.0  ...   \n",
       "2                         0.0                                      0.0  ...   \n",
       "3                         0.0                                      0.0  ...   \n",
       "4                         0.0                                      0.0  ...   \n",
       "\n",
       "   INCOME_AMT_1-9999  INCOME_AMT_10000-24999  INCOME_AMT_100000-499999  \\\n",
       "0                0.0                     0.0                       0.0   \n",
       "1                1.0                     0.0                       0.0   \n",
       "2                0.0                     0.0                       0.0   \n",
       "3                0.0                     1.0                       0.0   \n",
       "4                0.0                     0.0                       1.0   \n",
       "\n",
       "   INCOME_AMT_10M-50M  INCOME_AMT_1M-5M  INCOME_AMT_25000-99999  \\\n",
       "0                 0.0               0.0                     0.0   \n",
       "1                 0.0               0.0                     0.0   \n",
       "2                 0.0               0.0                     0.0   \n",
       "3                 0.0               0.0                     0.0   \n",
       "4                 0.0               0.0                     0.0   \n",
       "\n",
       "   INCOME_AMT_50M+  INCOME_AMT_5M-10M  SPECIAL_CONSIDERATIONS_N  \\\n",
       "0              0.0                0.0                       1.0   \n",
       "1              0.0                0.0                       1.0   \n",
       "2              0.0                0.0                       1.0   \n",
       "3              0.0                0.0                       1.0   \n",
       "4              0.0                0.0                       1.0   \n",
       "\n",
       "   SPECIAL_CONSIDERATIONS_Y  \n",
       "0                       0.0  \n",
       "1                       0.0  \n",
       "2                       0.0  \n",
       "3                       0.0  \n",
       "4                       0.0  \n",
       "\n",
       "[5 rows x 453 columns]"
      ]
     },
     "execution_count": 183,
     "metadata": {},
     "output_type": "execute_result"
    }
   ],
   "source": [
    "# Convert categorical data to numeric with `pd.get_dummies`\n",
    "application_df = pd.get_dummies(application_df,dtype=float)\n",
    "application_df.head(5)"
   ]
  },
  {
   "cell_type": "code",
   "execution_count": 184,
   "metadata": {},
   "outputs": [],
   "source": [
    "# Split our preprocessed data into our features and target arrays\n",
    "y = application_df['IS_SUCCESSFUL'].values\n",
    "\n",
    "# drop 'IS SUCCESSFUL'\n",
    "X = application_df.drop('IS_SUCCESSFUL', axis=1).values"
   ]
  },
  {
   "cell_type": "code",
   "execution_count": 185,
   "metadata": {},
   "outputs": [],
   "source": [
    "# Split the preprocessed data into a training and testing dataset\n",
    "X_train, X_test, y_train, y_test = train_test_split(X,y,random_state = 42)"
   ]
  },
  {
   "cell_type": "code",
   "execution_count": 186,
   "metadata": {},
   "outputs": [],
   "source": [
    "# Create a StandardScaler instances\n",
    "scaler = MinMaxScaler()\n",
    "\n",
    "# Fit the StandardScaler\n",
    "X_scaler = scaler.fit(X_train)\n",
    "\n",
    "# Scale the data\n",
    "X_train_scaled = X_scaler.transform(X_train)\n",
    "X_test_scaled = X_scaler.transform(X_test)"
   ]
  },
  {
   "cell_type": "code",
   "execution_count": 187,
   "metadata": {},
   "outputs": [
    {
     "name": "stdout",
     "output_type": "stream",
     "text": [
      "Model: \"sequential_17\"\n",
      "_________________________________________________________________\n",
      " Layer (type)                Output Shape              Param #   \n",
      "=================================================================\n",
      " dense_29 (Dense)            (None, 8)                 3624      \n",
      "                                                                 \n",
      " dense_30 (Dense)            (None, 16)                144       \n",
      "                                                                 \n",
      " dense_31 (Dense)            (None, 32)                544       \n",
      "                                                                 \n",
      " dense_32 (Dense)            (None, 1)                 33        \n",
      "                                                                 \n",
      "=================================================================\n",
      "Total params: 4345 (16.97 KB)\n",
      "Trainable params: 4345 (16.97 KB)\n",
      "Non-trainable params: 0 (0.00 Byte)\n",
      "_________________________________________________________________\n"
     ]
    }
   ],
   "source": [
    "# Define the model - deep neural net, i.e., the number of input features and hidden nodes for each layer.\n",
    "number_input_features = len( X_train_scaled[0])\n",
    "hidden_nodes_layer1=8\n",
    "hidden_nodes_layer2=16\n",
    "hidden_nodes_layer3=32\n",
    "\n",
    "nn = tf.keras.models.Sequential()\n",
    "\n",
    "nn = tf.keras.models.Sequential()\n",
    "\n",
    "# First hidden layer\n",
    "nn.add(tf.keras.layers.Dense(units=hidden_nodes_layer1, input_dim=number_input_features, activation='relu'))\n",
    "\n",
    "# Second hidden layer\n",
    "nn.add(tf.keras.layers.Dense(units=hidden_nodes_layer2, activation='relu'))\n",
    "\n",
    "# Third hidden layer\n",
    "nn.add(tf.keras.layers.Dense(units=hidden_nodes_layer3, activation='relu'))\n",
    "\n",
    "# Output layer\n",
    "nn.add(tf.keras.layers.Dense(units=1, activation='sigmoid'))\n",
    "\n",
    "# Check the structure of the model\n",
    "nn.summary()"
   ]
  },
  {
   "cell_type": "code",
   "execution_count": 188,
   "metadata": {},
   "outputs": [],
   "source": [
    "# Compile the model\n",
    "nn.compile(loss = 'binary_crossentropy', optimizer = 'adam', metrics=['accuracy'])"
   ]
  },
  {
   "cell_type": "code",
   "execution_count": 189,
   "metadata": {},
   "outputs": [
    {
     "name": "stdout",
     "output_type": "stream",
     "text": [
      "Epoch 1/100\n",
      "684/684 [==============================] - 2s 1ms/step - loss: 0.5195 - accuracy: 0.7454 - val_loss: 0.4441 - val_accuracy: 0.7914\n",
      "Epoch 2/100\n",
      "684/684 [==============================] - 1s 1ms/step - loss: 0.4424 - accuracy: 0.7891 - val_loss: 0.4247 - val_accuracy: 0.7999\n",
      "Epoch 3/100\n",
      "684/684 [==============================] - 1s 1ms/step - loss: 0.4305 - accuracy: 0.7935 - val_loss: 0.4198 - val_accuracy: 0.8056\n",
      "Epoch 4/100\n",
      "684/684 [==============================] - 1s 1ms/step - loss: 0.4251 - accuracy: 0.7940 - val_loss: 0.4233 - val_accuracy: 0.8069\n",
      "Epoch 5/100\n",
      "684/684 [==============================] - 1s 1ms/step - loss: 0.4232 - accuracy: 0.7957 - val_loss: 0.4234 - val_accuracy: 0.8041\n",
      "Epoch 6/100\n",
      "684/684 [==============================] - 1s 1ms/step - loss: 0.4219 - accuracy: 0.7960 - val_loss: 0.4263 - val_accuracy: 0.8077\n",
      "Epoch 7/100\n",
      "684/684 [==============================] - 1s 1ms/step - loss: 0.4212 - accuracy: 0.7982 - val_loss: 0.4241 - val_accuracy: 0.8031\n",
      "Epoch 8/100\n",
      "684/684 [==============================] - 1s 1ms/step - loss: 0.4199 - accuracy: 0.7969 - val_loss: 0.4246 - val_accuracy: 0.8033\n",
      "Epoch 9/100\n",
      "684/684 [==============================] - 1s 1ms/step - loss: 0.4182 - accuracy: 0.7978 - val_loss: 0.4267 - val_accuracy: 0.8018\n",
      "Epoch 10/100\n",
      "684/684 [==============================] - 1s 1ms/step - loss: 0.4173 - accuracy: 0.7977 - val_loss: 0.4330 - val_accuracy: 0.8028\n",
      "Epoch 11/100\n",
      "684/684 [==============================] - 1s 1ms/step - loss: 0.4180 - accuracy: 0.7961 - val_loss: 0.4277 - val_accuracy: 0.8028\n",
      "Epoch 12/100\n",
      "684/684 [==============================] - 1s 1ms/step - loss: 0.4170 - accuracy: 0.7979 - val_loss: 0.4298 - val_accuracy: 0.8046\n",
      "Epoch 13/100\n",
      "684/684 [==============================] - 1s 1ms/step - loss: 0.4170 - accuracy: 0.7982 - val_loss: 0.4264 - val_accuracy: 0.8054\n",
      "Epoch 14/100\n",
      "684/684 [==============================] - 1s 1ms/step - loss: 0.4154 - accuracy: 0.7999 - val_loss: 0.4315 - val_accuracy: 0.8054\n",
      "Epoch 15/100\n",
      "684/684 [==============================] - 1s 1ms/step - loss: 0.4158 - accuracy: 0.7994 - val_loss: 0.4314 - val_accuracy: 0.8080\n",
      "Epoch 16/100\n",
      "684/684 [==============================] - 1s 1ms/step - loss: 0.4146 - accuracy: 0.7983 - val_loss: 0.4329 - val_accuracy: 0.8051\n",
      "Epoch 17/100\n",
      "684/684 [==============================] - 1s 1ms/step - loss: 0.4153 - accuracy: 0.7971 - val_loss: 0.4306 - val_accuracy: 0.8033\n",
      "Epoch 18/100\n",
      "684/684 [==============================] - 1s 1ms/step - loss: 0.4145 - accuracy: 0.7990 - val_loss: 0.4324 - val_accuracy: 0.8059\n",
      "Epoch 19/100\n",
      "684/684 [==============================] - 1s 1ms/step - loss: 0.4139 - accuracy: 0.8000 - val_loss: 0.4317 - val_accuracy: 0.8093\n",
      "Epoch 20/100\n",
      "684/684 [==============================] - 1s 1ms/step - loss: 0.4141 - accuracy: 0.8000 - val_loss: 0.4319 - val_accuracy: 0.8046\n",
      "Epoch 21/100\n",
      "684/684 [==============================] - 1s 1ms/step - loss: 0.4141 - accuracy: 0.7997 - val_loss: 0.4332 - val_accuracy: 0.8090\n",
      "Epoch 22/100\n",
      "684/684 [==============================] - 1s 1ms/step - loss: 0.4134 - accuracy: 0.7982 - val_loss: 0.4349 - val_accuracy: 0.8025\n",
      "Epoch 23/100\n",
      "684/684 [==============================] - 1s 1ms/step - loss: 0.4131 - accuracy: 0.8006 - val_loss: 0.4339 - val_accuracy: 0.8064\n",
      "Epoch 24/100\n",
      "684/684 [==============================] - 1s 1ms/step - loss: 0.4124 - accuracy: 0.8019 - val_loss: 0.4357 - val_accuracy: 0.8077\n",
      "Epoch 25/100\n",
      "684/684 [==============================] - 1s 1ms/step - loss: 0.4121 - accuracy: 0.8019 - val_loss: 0.4375 - val_accuracy: 0.8010\n",
      "Epoch 26/100\n",
      "684/684 [==============================] - 1s 1ms/step - loss: 0.4119 - accuracy: 0.8008 - val_loss: 0.4377 - val_accuracy: 0.8085\n",
      "Epoch 27/100\n",
      "684/684 [==============================] - 1s 1ms/step - loss: 0.4122 - accuracy: 0.8002 - val_loss: 0.4368 - val_accuracy: 0.8041\n",
      "Epoch 28/100\n",
      "684/684 [==============================] - 1s 1ms/step - loss: 0.4118 - accuracy: 0.8022 - val_loss: 0.4386 - val_accuracy: 0.8020\n",
      "Epoch 29/100\n",
      "684/684 [==============================] - 1s 1ms/step - loss: 0.4119 - accuracy: 0.8022 - val_loss: 0.4392 - val_accuracy: 0.8064\n",
      "Epoch 30/100\n",
      "684/684 [==============================] - 1s 1ms/step - loss: 0.4116 - accuracy: 0.8021 - val_loss: 0.4381 - val_accuracy: 0.8075\n",
      "Epoch 31/100\n",
      "684/684 [==============================] - 1s 1ms/step - loss: 0.4111 - accuracy: 0.8013 - val_loss: 0.4410 - val_accuracy: 0.8033\n",
      "Epoch 32/100\n",
      "684/684 [==============================] - 1s 1ms/step - loss: 0.4105 - accuracy: 0.8018 - val_loss: 0.4407 - val_accuracy: 0.8038\n",
      "Epoch 33/100\n",
      "684/684 [==============================] - 1s 1ms/step - loss: 0.4106 - accuracy: 0.8022 - val_loss: 0.4436 - val_accuracy: 0.8067\n",
      "Epoch 34/100\n",
      "684/684 [==============================] - 1s 1ms/step - loss: 0.4108 - accuracy: 0.8017 - val_loss: 0.4474 - val_accuracy: 0.8010\n",
      "Epoch 35/100\n",
      "684/684 [==============================] - 1s 1ms/step - loss: 0.4107 - accuracy: 0.8025 - val_loss: 0.4414 - val_accuracy: 0.8062\n",
      "Epoch 36/100\n",
      "684/684 [==============================] - 1s 1ms/step - loss: 0.4098 - accuracy: 0.8032 - val_loss: 0.4455 - val_accuracy: 0.8075\n",
      "Epoch 37/100\n",
      "684/684 [==============================] - 1s 1ms/step - loss: 0.4097 - accuracy: 0.8032 - val_loss: 0.4467 - val_accuracy: 0.8038\n",
      "Epoch 38/100\n",
      "684/684 [==============================] - 1s 1ms/step - loss: 0.4098 - accuracy: 0.8036 - val_loss: 0.4455 - val_accuracy: 0.8069\n",
      "Epoch 39/100\n",
      "684/684 [==============================] - 1s 1ms/step - loss: 0.4100 - accuracy: 0.8018 - val_loss: 0.4479 - val_accuracy: 0.8036\n",
      "Epoch 40/100\n",
      "684/684 [==============================] - 1s 1ms/step - loss: 0.4092 - accuracy: 0.8025 - val_loss: 0.4441 - val_accuracy: 0.8090\n",
      "Epoch 41/100\n",
      "684/684 [==============================] - 1s 1ms/step - loss: 0.4090 - accuracy: 0.8024 - val_loss: 0.4473 - val_accuracy: 0.8031\n",
      "Epoch 42/100\n",
      "684/684 [==============================] - 1s 1ms/step - loss: 0.4088 - accuracy: 0.8031 - val_loss: 0.4480 - val_accuracy: 0.8015\n",
      "Epoch 43/100\n",
      "684/684 [==============================] - 1s 1ms/step - loss: 0.4089 - accuracy: 0.8034 - val_loss: 0.4439 - val_accuracy: 0.8054\n",
      "Epoch 44/100\n",
      "684/684 [==============================] - 1s 1ms/step - loss: 0.4089 - accuracy: 0.8035 - val_loss: 0.4464 - val_accuracy: 0.8044\n",
      "Epoch 45/100\n",
      "684/684 [==============================] - 1s 1ms/step - loss: 0.4083 - accuracy: 0.8043 - val_loss: 0.4463 - val_accuracy: 0.8051\n",
      "Epoch 46/100\n",
      "684/684 [==============================] - 1s 1ms/step - loss: 0.4085 - accuracy: 0.8043 - val_loss: 0.4443 - val_accuracy: 0.8028\n",
      "Epoch 47/100\n",
      "684/684 [==============================] - 1s 1ms/step - loss: 0.4079 - accuracy: 0.8033 - val_loss: 0.4482 - val_accuracy: 0.8028\n",
      "Epoch 48/100\n",
      "684/684 [==============================] - 1s 1ms/step - loss: 0.4081 - accuracy: 0.8034 - val_loss: 0.4485 - val_accuracy: 0.8075\n",
      "Epoch 49/100\n",
      "684/684 [==============================] - 1s 1ms/step - loss: 0.4082 - accuracy: 0.8028 - val_loss: 0.4484 - val_accuracy: 0.8028\n",
      "Epoch 50/100\n",
      "684/684 [==============================] - 1s 1ms/step - loss: 0.4075 - accuracy: 0.8046 - val_loss: 0.4511 - val_accuracy: 0.8051\n",
      "Epoch 51/100\n",
      "684/684 [==============================] - 1s 1ms/step - loss: 0.4073 - accuracy: 0.8038 - val_loss: 0.4480 - val_accuracy: 0.8085\n",
      "Epoch 52/100\n",
      "684/684 [==============================] - 1s 1ms/step - loss: 0.4072 - accuracy: 0.8033 - val_loss: 0.4498 - val_accuracy: 0.8067\n",
      "Epoch 53/100\n",
      "684/684 [==============================] - 1s 1ms/step - loss: 0.4069 - accuracy: 0.8053 - val_loss: 0.4527 - val_accuracy: 0.8056\n",
      "Epoch 54/100\n",
      "684/684 [==============================] - 1s 1ms/step - loss: 0.4070 - accuracy: 0.8038 - val_loss: 0.4501 - val_accuracy: 0.8075\n",
      "Epoch 55/100\n",
      "684/684 [==============================] - 1s 1ms/step - loss: 0.4071 - accuracy: 0.8037 - val_loss: 0.4481 - val_accuracy: 0.8062\n",
      "Epoch 56/100\n",
      "684/684 [==============================] - 1s 1ms/step - loss: 0.4072 - accuracy: 0.8041 - val_loss: 0.4543 - val_accuracy: 0.8077\n",
      "Epoch 57/100\n",
      "684/684 [==============================] - 1s 1ms/step - loss: 0.4067 - accuracy: 0.8050 - val_loss: 0.4575 - val_accuracy: 0.8059\n",
      "Epoch 58/100\n",
      "684/684 [==============================] - 1s 1ms/step - loss: 0.4066 - accuracy: 0.8047 - val_loss: 0.4536 - val_accuracy: 0.8067\n",
      "Epoch 59/100\n",
      "684/684 [==============================] - 1s 1ms/step - loss: 0.4065 - accuracy: 0.8047 - val_loss: 0.4514 - val_accuracy: 0.8064\n",
      "Epoch 60/100\n",
      "684/684 [==============================] - 1s 1ms/step - loss: 0.4067 - accuracy: 0.8046 - val_loss: 0.4518 - val_accuracy: 0.8041\n",
      "Epoch 61/100\n",
      "684/684 [==============================] - 1s 1ms/step - loss: 0.4061 - accuracy: 0.8045 - val_loss: 0.4503 - val_accuracy: 0.8025\n",
      "Epoch 62/100\n",
      "684/684 [==============================] - 1s 1ms/step - loss: 0.4057 - accuracy: 0.8048 - val_loss: 0.4514 - val_accuracy: 0.8018\n",
      "Epoch 63/100\n",
      "684/684 [==============================] - 1s 1ms/step - loss: 0.4054 - accuracy: 0.8068 - val_loss: 0.4574 - val_accuracy: 0.8025\n",
      "Epoch 64/100\n",
      "684/684 [==============================] - 1s 1ms/step - loss: 0.4058 - accuracy: 0.8044 - val_loss: 0.4552 - val_accuracy: 0.8062\n",
      "Epoch 65/100\n",
      "684/684 [==============================] - 1s 1ms/step - loss: 0.4054 - accuracy: 0.8048 - val_loss: 0.4595 - val_accuracy: 0.8028\n",
      "Epoch 66/100\n",
      "684/684 [==============================] - 1s 1ms/step - loss: 0.4056 - accuracy: 0.8042 - val_loss: 0.4581 - val_accuracy: 0.8012\n",
      "Epoch 67/100\n",
      "684/684 [==============================] - 1s 1ms/step - loss: 0.4052 - accuracy: 0.8048 - val_loss: 0.4537 - val_accuracy: 0.8064\n",
      "Epoch 68/100\n",
      "684/684 [==============================] - 1s 1ms/step - loss: 0.4054 - accuracy: 0.8050 - val_loss: 0.4549 - val_accuracy: 0.8064\n",
      "Epoch 69/100\n",
      "684/684 [==============================] - 1s 1ms/step - loss: 0.4049 - accuracy: 0.8059 - val_loss: 0.4545 - val_accuracy: 0.8062\n",
      "Epoch 70/100\n",
      "684/684 [==============================] - 1s 1ms/step - loss: 0.4053 - accuracy: 0.8056 - val_loss: 0.4621 - val_accuracy: 0.8041\n",
      "Epoch 71/100\n",
      "684/684 [==============================] - 1s 1ms/step - loss: 0.4053 - accuracy: 0.8050 - val_loss: 0.4564 - val_accuracy: 0.8064\n",
      "Epoch 72/100\n",
      "684/684 [==============================] - 1s 1ms/step - loss: 0.4048 - accuracy: 0.8053 - val_loss: 0.4555 - val_accuracy: 0.8059\n",
      "Epoch 73/100\n",
      "684/684 [==============================] - 1s 1ms/step - loss: 0.4050 - accuracy: 0.8044 - val_loss: 0.4550 - val_accuracy: 0.8064\n",
      "Epoch 74/100\n",
      "684/684 [==============================] - 1s 1ms/step - loss: 0.4046 - accuracy: 0.8041 - val_loss: 0.4520 - val_accuracy: 0.8082\n",
      "Epoch 75/100\n",
      "684/684 [==============================] - 1s 1ms/step - loss: 0.4049 - accuracy: 0.8052 - val_loss: 0.4553 - val_accuracy: 0.8046\n",
      "Epoch 76/100\n",
      "684/684 [==============================] - 1s 1ms/step - loss: 0.4047 - accuracy: 0.8061 - val_loss: 0.4600 - val_accuracy: 0.8023\n",
      "Epoch 77/100\n",
      "684/684 [==============================] - 1s 1ms/step - loss: 0.4045 - accuracy: 0.8051 - val_loss: 0.4547 - val_accuracy: 0.8072\n",
      "Epoch 78/100\n",
      "684/684 [==============================] - 1s 1ms/step - loss: 0.4046 - accuracy: 0.8049 - val_loss: 0.4607 - val_accuracy: 0.8049\n",
      "Epoch 79/100\n",
      "684/684 [==============================] - 1s 1ms/step - loss: 0.4045 - accuracy: 0.8059 - val_loss: 0.4554 - val_accuracy: 0.8049\n",
      "Epoch 80/100\n",
      "684/684 [==============================] - 1s 1ms/step - loss: 0.4044 - accuracy: 0.8065 - val_loss: 0.4549 - val_accuracy: 0.8038\n",
      "Epoch 81/100\n",
      "684/684 [==============================] - 1s 1ms/step - loss: 0.4043 - accuracy: 0.8061 - val_loss: 0.4583 - val_accuracy: 0.8046\n",
      "Epoch 82/100\n",
      "684/684 [==============================] - 1s 1ms/step - loss: 0.4041 - accuracy: 0.8061 - val_loss: 0.4584 - val_accuracy: 0.8049\n",
      "Epoch 83/100\n",
      "684/684 [==============================] - 1s 1ms/step - loss: 0.4036 - accuracy: 0.8063 - val_loss: 0.4595 - val_accuracy: 0.8049\n",
      "Epoch 84/100\n",
      "684/684 [==============================] - 1s 1ms/step - loss: 0.4038 - accuracy: 0.8050 - val_loss: 0.4563 - val_accuracy: 0.8059\n",
      "Epoch 85/100\n",
      "684/684 [==============================] - 1s 1ms/step - loss: 0.4036 - accuracy: 0.8078 - val_loss: 0.4548 - val_accuracy: 0.8075\n",
      "Epoch 86/100\n",
      "684/684 [==============================] - 1s 1ms/step - loss: 0.4039 - accuracy: 0.8061 - val_loss: 0.4598 - val_accuracy: 0.8056\n",
      "Epoch 87/100\n",
      "684/684 [==============================] - 1s 1ms/step - loss: 0.4035 - accuracy: 0.8063 - val_loss: 0.4633 - val_accuracy: 0.8059\n",
      "Epoch 88/100\n",
      "684/684 [==============================] - 1s 1ms/step - loss: 0.4039 - accuracy: 0.8059 - val_loss: 0.4543 - val_accuracy: 0.8088\n",
      "Epoch 89/100\n",
      "684/684 [==============================] - 1s 1ms/step - loss: 0.4035 - accuracy: 0.8059 - val_loss: 0.4542 - val_accuracy: 0.8054\n",
      "Epoch 90/100\n",
      "684/684 [==============================] - 1s 1ms/step - loss: 0.4039 - accuracy: 0.8057 - val_loss: 0.4580 - val_accuracy: 0.8025\n",
      "Epoch 91/100\n",
      "684/684 [==============================] - 1s 1ms/step - loss: 0.4037 - accuracy: 0.8059 - val_loss: 0.4587 - val_accuracy: 0.8038\n",
      "Epoch 92/100\n",
      "684/684 [==============================] - 1s 1ms/step - loss: 0.4034 - accuracy: 0.8065 - val_loss: 0.4583 - val_accuracy: 0.8059\n",
      "Epoch 93/100\n",
      "684/684 [==============================] - 1s 1ms/step - loss: 0.4029 - accuracy: 0.8072 - val_loss: 0.4558 - val_accuracy: 0.8038\n",
      "Epoch 94/100\n",
      "684/684 [==============================] - 1s 1ms/step - loss: 0.4032 - accuracy: 0.8061 - val_loss: 0.4617 - val_accuracy: 0.8018\n",
      "Epoch 95/100\n",
      "684/684 [==============================] - 1s 1ms/step - loss: 0.4033 - accuracy: 0.8061 - val_loss: 0.4582 - val_accuracy: 0.8059\n",
      "Epoch 96/100\n",
      "684/684 [==============================] - 1s 1ms/step - loss: 0.4033 - accuracy: 0.8059 - val_loss: 0.4577 - val_accuracy: 0.8059\n",
      "Epoch 97/100\n",
      "684/684 [==============================] - 1s 1ms/step - loss: 0.4031 - accuracy: 0.8059 - val_loss: 0.4632 - val_accuracy: 0.8007\n",
      "Epoch 98/100\n",
      "684/684 [==============================] - 1s 1ms/step - loss: 0.4028 - accuracy: 0.8064 - val_loss: 0.4597 - val_accuracy: 0.8077\n",
      "Epoch 99/100\n",
      "684/684 [==============================] - 1s 1ms/step - loss: 0.4029 - accuracy: 0.8064 - val_loss: 0.4607 - val_accuracy: 0.8051\n",
      "Epoch 100/100\n",
      "684/684 [==============================] - 1s 1ms/step - loss: 0.4033 - accuracy: 0.8075 - val_loss: 0.4606 - val_accuracy: 0.8080\n"
     ]
    }
   ],
   "source": [
    "# Train the model\n",
    "fit_model = nn.fit(X_train_scaled,y_train,validation_split=0.15, epochs=100)"
   ]
  },
  {
   "cell_type": "code",
   "execution_count": 190,
   "metadata": {},
   "outputs": [
    {
     "name": "stdout",
     "output_type": "stream",
     "text": [
      "268/268 - 0s - loss: 0.4782 - accuracy: 0.7901 - 199ms/epoch - 743us/step\n",
      "Loss: 0.47815197706222534, Accuracy: 0.7900874614715576\n"
     ]
    }
   ],
   "source": [
    "# Evaluate the model using the test data\n",
    "model_loss, model_accuracy = nn.evaluate(X_test_scaled,y_test,verbose=2)\n",
    "print(f\"Loss: {model_loss}, Accuracy: {model_accuracy}\")"
   ]
  },
  {
   "cell_type": "code",
   "execution_count": 191,
   "metadata": {},
   "outputs": [
    {
     "name": "stdout",
     "output_type": "stream",
     "text": [
      "268/268 [==============================] - 0s 804us/step\n",
      "AUC Score: 0.8557521494129349\n"
     ]
    },
    {
     "data": {
      "image/png": "[encoded data removed]",
      "text/plain": [
       "<Figure size 640x480 with 1 Axes>"
      ]
     },
     "metadata": {},
     "output_type": "display_data"
    }
   ],
   "source": [
    "# Calculate AUC score and plot ROC curve\n",
    "y_pred_prob = nn.predict(X_test_scaled)\n",
    "auc_score = roc_auc_score(y_test, y_pred_prob)\n",
    "print(f'AUC Score: {auc_score}')\n",
    "\n",
    "fpr, tpr, _ = roc_curve(y_test, y_pred_prob)\n",
    "plt.plot(fpr, tpr, marker='.')\n",
    "plt.xlabel('False Positive Rate')\n",
    "plt.ylabel('True Positive Rate')\n",
    "plt.title('ROC Curve')\n",
    "plt.show()"
   ]
  },
  {
   "cell_type": "code",
   "execution_count": 192,
   "metadata": {},
   "outputs": [
    {
     "name": "stderr",
     "output_type": "stream",
     "text": [
      "C:\\Users\\jhyan\\AppData\\Roaming\\Python\\Python311\\site-packages\\keras\\src\\engine\\training.py:3103: UserWarning: You are saving your model as an HDF5 file via `model.save()`. This file format is considered legacy. We recommend using instead the native Keras format, e.g. `model.save('my_model.keras')`.\n",
      "  saving_api.save_model(\n"
     ]
    }
   ],
   "source": [
    "# Export our model to HDF5 file\n",
    "nn.save('AlphabetSoupCharity_Optimization.h5')"
   ]
  }
 ],
 "metadata": {
  "kernelspec": {
   "display_name": "base",
   "language": "python",
   "name": "python3"
  },
  "language_info": {
   "codemirror_mode": {
    "name": "ipython",
    "version": 3
   },
   "file_extension": ".py",
   "mimetype": "text/x-python",
   "name": "python",
   "nbconvert_exporter": "python",
   "pygments_lexer": "ipython3",
   "version": "3.11.5"
  },
  "orig_nbformat": 4
 },
 "nbformat": 4,
 "nbformat_minor": 2
}
